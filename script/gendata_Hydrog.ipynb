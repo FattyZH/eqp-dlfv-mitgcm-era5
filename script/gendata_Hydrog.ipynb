{
 "cells": [
  {
   "cell_type": "code",
   "execution_count": 6,
   "id": "42afbcd2",
   "metadata": {},
   "outputs": [],
   "source": [
    "from MITgcmutils.utils import writebin\n",
    "import matplotlib.pyplot as plt\n",
    "import numpy as np\n",
    "from numpy import cos, pi\n",
    "import xarray as xr\n",
    "from scipy import ndimage\n",
    "\n",
    "def fillna(arr):\n",
    "    filled = arr.copy()\n",
    "    if np.isnan(arr).any():\n",
    "        mask = np.isnan(arr)\n",
    "        # 获取最近非 NaN 元素的索引\n",
    "        idx = ndimage.distance_transform_edt(mask, return_distances=False, return_indices=True)\n",
    "        filled[:, :] = arr[tuple(idx)]\n",
    "    return filled\n",
    "nx = 168    # gridpoints in x\n",
    "ny = 30    # gridpoints in y\n",
    "nz = 10    # gridpoints in z\n",
    "\n",
    "dx = 1     # grid spacing in x (degrees longitude)\n",
    "dy = 1     # grid spacing in y (degrees latitude)\n",
    "x0 = 120     # origin in x,y for ocean domain\n",
    "y0 = -15    # (i.e. southwestern corner of ocean domain)\n",
    "x1 = x0 + (nx-1)*dx    # origin in x,y for ocean domain\n",
    "y1 = y0 + (ny-1)*dy    # (i.e. southwestern corner of ocean domain)\n",
    "opath = '../input/'\n",
    "ipath = '/mnt/d/project/IAVNNG/Data/'\n",
    "fbath = ipath + 'GLO-MFC_001_030_mask_bathy.nc'\n",
    "fclim = ipath + 'cmems_climatology_mon.nc'\n",
    "fwind = ipath + 'era5_tau_mon.nc'\n",
    "inc = dx*12\n",
    "winc = dx*4"
   ]
  },
  {
   "cell_type": "markdown",
   "id": "69c2a9c7",
   "metadata": {},
   "source": [
    "## 生成海表面风应力场 （Agrid）"
   ]
  },
  {
   "cell_type": "code",
   "execution_count": 7,
   "id": "87f3aa96",
   "metadata": {},
   "outputs": [],
   "source": [
    "isclim = True\n",
    "yrs = 10\n",
    "ds = xr.open_dataset(fwind)\n",
    "\n",
    "nt = ds['valid_time']\n",
    "taux = ds['ewss'][:12*yrs].loc[:,y0:y1:-1*winc,x0:x1:winc] \n",
    "tauy = ds['nsss'][:12*yrs].loc[:,y0:y1:-1*winc,x0:x1:winc]\n",
    "\n",
    "taux = taux.values/86400  # era5提供的风应力是一天的积分，需要除以86400转换为风应力\n",
    "tauy = tauy.values/86400  # 同上\n",
    "if isclim:\n",
    "    taux = taux.reshape(-1,12,ny,nx).mean(0)\n",
    "    tauy = tauy.reshape(-1,12,ny,nx).mean(0)\n",
    "\n",
    "# 保存为MITgcm驱动所需的二进制文件\n",
    "writebin(opath+'taux.bin',taux)\n",
    "writebin(opath+'tauy.bin',tauy)"
   ]
  },
  {
   "cell_type": "markdown",
   "id": "36061a80",
   "metadata": {},
   "source": [
    "## 生成EXF Relax边界（SSH SSS Agrid）"
   ]
  },
  {
   "cell_type": "code",
   "execution_count": 8,
   "id": "483e1a78",
   "metadata": {},
   "outputs": [
    {
     "name": "stdout",
     "output_type": "stream",
     "text": [
      "(12, 30, 168)\n"
     ]
    },
    {
     "data": {
      "image/png": "[encoded data removed]",
      "text/plain": [
       "<Figure size 640x480 with 1 Axes>"
      ]
     },
     "metadata": {},
     "output_type": "display_data"
    }
   ],
   "source": [
    "\n",
    "ds = xr.open_dataset(fclim)\n",
    "thetao = ds['thetao'][:,0].loc[:,y0:y1:inc,x0:x1:inc]\n",
    "so = ds['so'][:,0].loc[:,y0:y1:inc,x0:x1:inc]\n",
    "theta = thetao.values\n",
    "s = so.values\n",
    "for i in range(thetao.shape[0]):\n",
    "    theta[i] = fillna(theta[i])\n",
    "    s[i] = fillna(s[i])\n",
    "plt.contourf(s[0])\n",
    "print(theta.shape)\n",
    "writebin(opath+'sst_clim.bin',theta)\n",
    "writebin(opath+'sss_clim.bin',s)\n"
   ]
  },
  {
   "cell_type": "markdown",
   "id": "6682cbd6",
   "metadata": {},
   "source": [
    "## 生成温盐流初始场"
   ]
  },
  {
   "cell_type": "code",
   "execution_count": 9,
   "id": "34dc1d18",
   "metadata": {},
   "outputs": [
    {
     "name": "stdout",
     "output_type": "stream",
     "text": [
      "(10, 30, 168)\n"
     ]
    }
   ],
   "source": [
    "\n",
    "ds = xr.open_dataset(fclim)\n",
    "dep = ds['depth'].values\n",
    "dr = np.zeros(dep.shape)\n",
    "lev = 0\n",
    "for i in range(dep.size):\n",
    "    dr[i] = 2*(dep[i]-lev)\n",
    "    lev += dr[i]\n",
    "drr = dr.reshape(nz,-1).sum(-1)\n",
    "dr = dr[:,None,None]\n",
    "drr = drr[:,None,None]\n",
    "\n",
    "ds = xr.open_dataset(fclim)\n",
    "thetao = ds['thetao'][0].loc[:,y0:y1:inc,x0:x1:inc]\n",
    "so = ds['so'][0].loc[:,y0:y1:inc,x0:x1:inc]\n",
    "theta = thetao.values\n",
    "s = so.values\n",
    "\n",
    "for i in range(thetao.shape[0]):\n",
    "    theta[i] = fillna(theta[i])\n",
    "    s[i] = fillna(s[i])\n",
    "Z, Y, X = theta.shape\n",
    "# theta = (theta*dr).reshape(nz,Z//nz,Y,X).sum(1)/drr\n",
    "# s = (s*dr).reshape(nz,Z//nz,Y,X).sum(1)/drr\n",
    "theta =  np.nanmean(theta.reshape(nz,Z//nz,Y,X), 1)\n",
    "s = np.nanmean(s.reshape(nz,Z//nz,Y,X), 1)\n",
    "\n",
    "print(theta.shape)\n",
    "writebin(opath+'T.bin',theta)\n",
    "writebin(opath+'S.bin',s)\n"
   ]
  },
  {
   "cell_type": "markdown",
   "id": "aa727dd6",
   "metadata": {},
   "source": [
    "## 生成地形数据\n",
    "---\n",
    "需注意水深取负值，且将陆地填补为0"
   ]
  },
  {
   "cell_type": "code",
   "execution_count": 34,
   "id": "7b223c5d",
   "metadata": {},
   "outputs": [
    {
     "name": "stdout",
     "output_type": "stream",
     "text": [
      "(30, 168)\n"
     ]
    },
    {
     "data": {
      "text/plain": [
       "3790.17"
      ]
     },
     "execution_count": 34,
     "metadata": {},
     "output_type": "execute_result"
    },
    {
     "data": {
      "image/png": "[encoded data removed]",
      "text/plain": [
       "<Figure size 640x480 with 1 Axes>"
      ]
     },
     "metadata": {},
     "output_type": "display_data"
    }
   ],
   "source": [
    "ds = xr.open_dataset(fbath)\n",
    "hl = ds['deptho'].loc[y0:y1:inc,x0:x1:inc]\n",
    "hr = ds['deptho'].loc[y0:y1:inc,x0-360:x1-360:inc]\n",
    "h = np.hstack((hl.values,hr.values))\n",
    "h[np.isnan(h)] = 0\n",
    "h = -h\n",
    "\n",
    "h[:,:] = -4874\n",
    "h[:,0] = 0\n",
    "h[:,-1] = 0\n",
    "\n",
    "print(h.shape)\n",
    "plt.contourf(h)\n",
    "writebin(opath+'bathy.bin',h)\n",
    "sum([5.71,8.86,17.14,39.58,98.29,244.38,562.91,1100.27,1713.03])\n",
    "# ,2167.02"
   ]
  }
 ],
 "metadata": {
  "kernelspec": {
   "display_name": "base (3.13.5)",
   "language": "python",
   "name": "python3"
  },
  "language_info": {
   "codemirror_mode": {
    "name": "ipython",
    "version": 3
   },
   "file_extension": ".py",
   "mimetype": "text/x-python",
   "name": "python",
   "nbconvert_exporter": "python",
   "pygments_lexer": "ipython3",
   "version": "3.13.5"
  }
 },
 "nbformat": 4,
 "nbformat_minor": 5
}
