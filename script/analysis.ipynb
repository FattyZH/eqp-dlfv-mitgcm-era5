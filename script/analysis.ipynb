{
 "cells": [
  {
   "cell_type": "code",
   "execution_count": null,
   "metadata": {},
   "outputs": [],
   "source": [
    "import MITgcmutils as mutils\n",
    "import numpy as np\n",
    "import xarray as xr\n",
    "import matplotlib.pyplot as plt\n",
    "# ed = 1632\n",
    "with xr.open_dataset('../run/mnc_exp_0001/stat.0000000000.t001.nc') as a:\n",
    "    display(a)\n",
    "    a['momKE_ave'][:].plot()\n",
    "    a['ETAN_std'][:].plot()\n",
    "    \n",
    "    plt.gca().set_yscale('log')\n",
    "    \n",
    "\n"
   ]
  },
  {
   "cell_type": "code",
   "execution_count": null,
   "metadata": {},
   "outputs": [],
   "source": [
    "import MITgcmutils as mutils\n",
    "import numpy as np\n",
    "import xarray as xr\n",
    "import matplotlib.pyplot as plt\n",
    "a = xr.load_dataset('../run/mnc_exp_0001/surf.0000000000.t001.nc')\n",
    "display(a)\n",
    "# plt.figure(figsize=(16,4.8))\n",
    "a['ETAN'][85][0].plot()\n",
    "# plt.gca().set_aspect('equal')\n",
    "# plt.colorbar()\n",
    "# a.indexes['T'].get_loc('1940-03-19')"
   ]
  },
  {
   "cell_type": "code",
   "execution_count": null,
   "metadata": {},
   "outputs": [],
   "source": [
    "import MITgcmutils as mutils\n",
    "import numpy as np\n",
    "import xarray as xr\n",
    "import matplotlib.pyplot as plt\n",
    "a = xr.load_dataset('../run/mnc_exp_0001/dync.0000000000.t001.nc')\n",
    "display(a)\n",
    "a['VVEL'][1000][0].plot(levels=np.arange(-2,2.01,0.1))\n",
    "\n",
    "# (a['THETA'][-1][0]==0).plot()\n",
    "# a['VVEL'][-1][0][-1,:].plot()\n",
    "# plt.colorbar()"
   ]
  }
 ],
 "metadata": {
  "kernelspec": {
   "display_name": "base",
   "language": "python",
   "name": "python3"
  },
  "language_info": {
   "codemirror_mode": {
    "name": "ipython",
    "version": 3
   },
   "file_extension": ".py",
   "mimetype": "text/x-python",
   "name": "python",
   "nbconvert_exporter": "python",
   "pygments_lexer": "ipython3",
   "version": "3.11.5"
  }
 },
 "nbformat": 4,
 "nbformat_minor": 2
}
